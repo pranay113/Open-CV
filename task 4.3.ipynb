{
 "cells": [
  {
   "cell_type": "code",
   "execution_count": 52,
   "id": "b30a7267",
   "metadata": {},
   "outputs": [],
   "source": [
    "import cv2"
   ]
  },
  {
   "cell_type": "code",
   "execution_count": 53,
   "id": "bd387a48",
   "metadata": {},
   "outputs": [],
   "source": [
    "import numpy "
   ]
  },
  {
   "cell_type": "code",
   "execution_count": 54,
   "id": "f42d1271",
   "metadata": {},
   "outputs": [],
   "source": [
    "img1 = cv2.imread(\"C:/Users/user/Desktop/image3.jpg\")\n",
    "photo1=cv2.resize(img1,(300,300))\n",
    "cv2.imshow(\"image 3\",photo1)\n",
    "cv2.waitKey()\n",
    "cv2.destroyAllWindows()"
   ]
  },
  {
   "cell_type": "code",
   "execution_count": 55,
   "id": "b8952281",
   "metadata": {},
   "outputs": [
    {
     "data": {
      "text/plain": [
       "(300, 300, 3)"
      ]
     },
     "execution_count": 55,
     "metadata": {},
     "output_type": "execute_result"
    }
   ],
   "source": [
    "photo1.shape"
   ]
  },
  {
   "cell_type": "code",
   "execution_count": 56,
   "id": "36d5304f",
   "metadata": {},
   "outputs": [],
   "source": [
    "img2 = cv2.imread(\"C:/Users/user/Desktop/image4.jpg\")\n",
    "photo2=cv2.resize(img2,(300,300))\n",
    "cv2.imshow(\"image 4\",photo2)\n",
    "cv2.waitKey()\n",
    "cv2.destroyAllWindows()"
   ]
  },
  {
   "cell_type": "code",
   "execution_count": 57,
   "id": "b7134f37",
   "metadata": {},
   "outputs": [
    {
     "data": {
      "text/plain": [
       "(300, 300, 3)"
      ]
     },
     "execution_count": 57,
     "metadata": {},
     "output_type": "execute_result"
    }
   ],
   "source": [
    "photo2.shape"
   ]
  },
  {
   "cell_type": "code",
   "execution_count": 58,
   "id": "6dacae90",
   "metadata": {},
   "outputs": [],
   "source": [
    "combo = numpy.vstack((photo1, photo2))"
   ]
  },
  {
   "cell_type": "code",
   "execution_count": 59,
   "id": "17a87d0c",
   "metadata": {},
   "outputs": [],
   "source": [
    "cv2.imshow(\"Vertically\",combo)\n",
    "cv2.waitKey()\n",
    "cv2.destroyAllWindows()"
   ]
  },
  {
   "cell_type": "code",
   "execution_count": 60,
   "id": "d1972a2d",
   "metadata": {},
   "outputs": [],
   "source": [
    "combo = numpy.hstack((photo1, photo2))"
   ]
  },
  {
   "cell_type": "code",
   "execution_count": 61,
   "id": "5a1b10e5",
   "metadata": {},
   "outputs": [],
   "source": [
    "cv2.imshow(\"Horizontally\",combo)\n",
    "cv2.waitKey()\n",
    "cv2.destroyAllWindows()"
   ]
  },
  {
   "cell_type": "code",
   "execution_count": null,
   "id": "aafbf105",
   "metadata": {},
   "outputs": [],
   "source": [
    "thank you..!!!!!"
   ]
  }
 ],
 "metadata": {
  "kernelspec": {
   "display_name": "Python 3",
   "language": "python",
   "name": "python3"
  },
  "language_info": {
   "codemirror_mode": {
    "name": "ipython",
    "version": 3
   },
   "file_extension": ".py",
   "mimetype": "text/x-python",
   "name": "python",
   "nbconvert_exporter": "python",
   "pygments_lexer": "ipython3",
   "version": "3.8.8"
  }
 },
 "nbformat": 4,
 "nbformat_minor": 5
}
