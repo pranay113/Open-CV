{
 "cells": [
  {
   "cell_type": "code",
   "execution_count": 23,
   "id": "7bcfabfb",
   "metadata": {},
   "outputs": [],
   "source": [
    "import numpy as np\n",
    "import cv2 as cv"
   ]
  },
  {
   "cell_type": "code",
   "execution_count": 24,
   "id": "d93d97a6",
   "metadata": {},
   "outputs": [],
   "source": [
    "image1 = cv.imread(\"C:/Users/user/Desktop/image1.jpg\")\n",
    "cv.imshow(\"1st Image\", image1)\n",
    "cv.waitKey()\n",
    "cv.destroyAllWindows()"
   ]
  },
  {
   "cell_type": "code",
   "execution_count": 25,
   "id": "c3a28d79",
   "metadata": {},
   "outputs": [
    {
     "data": {
      "text/plain": [
       "(275, 183, 3)"
      ]
     },
     "execution_count": 25,
     "metadata": {},
     "output_type": "execute_result"
    }
   ],
   "source": [
    "image1.shape"
   ]
  },
  {
   "cell_type": "code",
   "execution_count": 26,
   "id": "60b5153c",
   "metadata": {},
   "outputs": [],
   "source": [
    "image2 = cv.imread(\"C:/Users/user/Desktop/image2.jpg\")\n",
    "cv.imshow(\"2nd Image\", image2)\n",
    "cv.waitKey()\n",
    "cv.destroyAllWindows()"
   ]
  },
  {
   "cell_type": "code",
   "execution_count": 27,
   "id": "8aef653a",
   "metadata": {},
   "outputs": [
    {
     "data": {
      "text/plain": [
       "(276, 183, 3)"
      ]
     },
     "execution_count": 27,
     "metadata": {},
     "output_type": "execute_result"
    }
   ],
   "source": [
    "image2.shape"
   ]
  },
  {
   "cell_type": "code",
   "execution_count": 28,
   "id": "3887c118",
   "metadata": {},
   "outputs": [],
   "source": [
    "image1_cropped = image1[20:100,50:300]\n",
    "cv.imshow(\"1st Cropped Image\", image1_cropped)\n",
    "cv.waitKey()\n",
    "cv.destroyAllWindows()"
   ]
  },
  {
   "cell_type": "code",
   "execution_count": 29,
   "id": "1cd80c7c",
   "metadata": {},
   "outputs": [],
   "source": [
    "image2_cropped = image2[20:100,50:300]\n",
    "cv.imshow(\"2nd Cropped Image\", image2_cropped)\n",
    "cv.waitKey()\n",
    "cv.destroyAllWindows()"
   ]
  },
  {
   "cell_type": "code",
   "execution_count": 30,
   "id": "e959e7c1",
   "metadata": {},
   "outputs": [],
   "source": [
    "image1_resized = cv.resize(image1_cropped,(image2_cropped.shape[1],image2_cropped.shape[0]))\n",
    "image2_resized = cv.resize(image2_cropped,(image1_cropped.shape[1],image1_cropped.shape[0]))"
   ]
  },
  {
   "cell_type": "code",
   "execution_count": 31,
   "id": "dcd84f11",
   "metadata": {},
   "outputs": [],
   "source": [
    "image1[20:100,50:300] = image2_resized\n",
    "cv.imshow(\"1st Image\", image1)\n",
    "cv.waitKey()\n",
    "cv.destroyAllWindows()"
   ]
  },
  {
   "cell_type": "code",
   "execution_count": 32,
   "id": "652a2536",
   "metadata": {},
   "outputs": [],
   "source": [
    "image2[20:100,50:300] = image1_resized\n",
    "cv.imshow(\"2nd Image\", image2)\n",
    "cv.waitKey()\n",
    "cv.destroyAllWindows()"
   ]
  },
  {
   "cell_type": "code",
   "execution_count": 33,
   "id": "7c27fe12",
   "metadata": {},
   "outputs": [
    {
     "data": {
      "text/plain": [
       "True"
      ]
     },
     "execution_count": 33,
     "metadata": {},
     "output_type": "execute_result"
    }
   ],
   "source": [
    "cv.imwrite(\"image1_new.jpg\", image1)\n",
    "cv.imwrite(\"image2_new.jpg\", image2)"
   ]
  },
  {
   "cell_type": "code",
   "execution_count": null,
   "id": "0d244a7a",
   "metadata": {},
   "outputs": [],
   "source": []
  }
 ],
 "metadata": {
  "kernelspec": {
   "display_name": "Python 3",
   "language": "python",
   "name": "python3"
  },
  "language_info": {
   "codemirror_mode": {
    "name": "ipython",
    "version": 3
   },
   "file_extension": ".py",
   "mimetype": "text/x-python",
   "name": "python",
   "nbconvert_exporter": "python",
   "pygments_lexer": "ipython3",
   "version": "3.8.8"
  }
 },
 "nbformat": 4,
 "nbformat_minor": 5
}
