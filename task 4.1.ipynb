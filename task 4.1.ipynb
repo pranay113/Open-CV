{
 "cells": [
  {
   "cell_type": "code",
   "execution_count": 11,
   "id": "e9629033",
   "metadata": {},
   "outputs": [],
   "source": [
    "import cv2"
   ]
  },
  {
   "cell_type": "code",
   "execution_count": 12,
   "id": "1fa99901",
   "metadata": {},
   "outputs": [],
   "source": [
    "import numpy as np"
   ]
  },
  {
   "cell_type": "code",
   "execution_count": 13,
   "id": "515b3d92",
   "metadata": {},
   "outputs": [],
   "source": [
    "b = np.zeros((900,900,3))"
   ]
  },
  {
   "cell_type": "code",
   "execution_count": 14,
   "id": "3e6f1c58",
   "metadata": {},
   "outputs": [],
   "source": [
    "bCircle=cv2.circle(b, (450,450), 250, [0,255,255], -1)"
   ]
  },
  {
   "cell_type": "code",
   "execution_count": 15,
   "id": "7a2d4f62",
   "metadata": {},
   "outputs": [],
   "source": [
    "cv2.imshow('Circle',bCircle)\n",
    "cv2.waitKey()\n",
    "cv2.destroyAllWindows()"
   ]
  },
  {
   "cell_type": "code",
   "execution_count": 46,
   "id": "0e6c7129",
   "metadata": {},
   "outputs": [],
   "source": []
  },
  {
   "cell_type": "code",
   "execution_count": null,
   "id": "99db30cb",
   "metadata": {},
   "outputs": [],
   "source": []
  }
 ],
 "metadata": {
  "kernelspec": {
   "display_name": "Python 3",
   "language": "python",
   "name": "python3"
  },
  "language_info": {
   "codemirror_mode": {
    "name": "ipython",
    "version": 3
   },
   "file_extension": ".py",
   "mimetype": "text/x-python",
   "name": "python",
   "nbconvert_exporter": "python",
   "pygments_lexer": "ipython3",
   "version": "3.8.8"
  }
 },
 "nbformat": 4,
 "nbformat_minor": 5
}
